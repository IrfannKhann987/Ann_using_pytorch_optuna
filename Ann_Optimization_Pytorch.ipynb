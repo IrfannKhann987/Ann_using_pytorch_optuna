{
  "nbformat": 4,
  "nbformat_minor": 0,
  "metadata": {
    "colab": {
      "provenance": [],
      "gpuType": "T4"
    },
    "kernelspec": {
      "name": "python3",
      "display_name": "Python 3"
    },
    "language_info": {
      "name": "python"
    },
    "accelerator": "GPU"
  },
  "cells": [
    {
      "cell_type": "code",
      "execution_count": 1,
      "metadata": {
        "id": "TGYcE__ZyWQz"
      },
      "outputs": [],
      "source": [
        "import numpy as np\n",
        "import pandas as pd\n",
        "import torch\n",
        "import torch.nn as nn\n",
        "from torch.utils.data import Dataset,DataLoader\n",
        "from sklearn.model_selection import train_test_split\n",
        "import tensorflow as tf"
      ]
    },
    {
      "cell_type": "code",
      "source": [
        "df=pd.read_csv('/content/fmnist_small.csv')"
      ],
      "metadata": {
        "id": "mQh4S4t3y4cL"
      },
      "execution_count": 2,
      "outputs": []
    },
    {
      "cell_type": "code",
      "source": [
        "device = torch.device('cuda' if torch.cuda.is_available() else 'cpu')"
      ],
      "metadata": {
        "id": "eKUDxusQzKks"
      },
      "execution_count": 3,
      "outputs": []
    },
    {
      "cell_type": "code",
      "source": [
        "df.shape"
      ],
      "metadata": {
        "colab": {
          "base_uri": "https://localhost:8080/"
        },
        "id": "qY-IPE__zNbk",
        "outputId": "4f7be189-d5a8-4035-c832-e647920cf051"
      },
      "execution_count": 5,
      "outputs": [
        {
          "output_type": "execute_result",
          "data": {
            "text/plain": [
              "(6000, 785)"
            ]
          },
          "metadata": {},
          "execution_count": 5
        }
      ]
    },
    {
      "cell_type": "code",
      "source": [
        "X = df.iloc[:, 1:].values\n",
        "y = df.iloc[:, 0].values"
      ],
      "metadata": {
        "id": "59qKibhRzQ_1"
      },
      "execution_count": 6,
      "outputs": []
    },
    {
      "cell_type": "code",
      "source": [
        "X_train, X_test, y_train, y_test = train_test_split(X, y, test_size=0.2, random_state=42)"
      ],
      "metadata": {
        "id": "waF99tkYzXwG"
      },
      "execution_count": 7,
      "outputs": []
    },
    {
      "cell_type": "code",
      "source": [
        "X_train = X_train/255.0\n",
        "X_test = X_test/255.0"
      ],
      "metadata": {
        "id": "PBt_IJBwzZT8"
      },
      "execution_count": 8,
      "outputs": []
    },
    {
      "cell_type": "code",
      "source": [
        "class data(Dataset):\n",
        "  def __init__(self,features,lables):\n",
        "    self.features=torch.tensor(features,dtype=torch.float32)\n",
        "    self.lables=torch.tensor(lables,dtype=torch.long)\n",
        "\n",
        "  def __len__(self):\n",
        "    return len(self.features)\n",
        "\n",
        "  def __getitem__(self,idx):\n",
        "    return self.features[idx],self.lables[idx]\n"
      ],
      "metadata": {
        "id": "0nezxhT5zbEA"
      },
      "execution_count": 13,
      "outputs": []
    },
    {
      "cell_type": "code",
      "source": [
        "train_dataset = data(X_train, y_train)"
      ],
      "metadata": {
        "id": "pR2rQVvLzz4g"
      },
      "execution_count": 14,
      "outputs": []
    },
    {
      "cell_type": "code",
      "source": [
        "test_dataset = data(X_test, y_test)"
      ],
      "metadata": {
        "id": "qF2gA9CZz342"
      },
      "execution_count": 15,
      "outputs": []
    },
    {
      "cell_type": "code",
      "source": [
        "class model(nn.Module):\n",
        "  def __init__(self,neurons_per_layer,num_layers,dropout,input_dim,output_dim):\n",
        "    super().__init__()\n",
        "\n",
        "    layers=[]\n",
        "\n",
        "    for i in range(num_layers):\n",
        "      layers.append(nn.Linear(input_dim,neurons_per_layer))\n",
        "      layers.append(nn.BatchNorm1d(neurons_per_layer))\n",
        "      layers.append(nn.ReLU())\n",
        "      layers.append(nn.Dropout(dropout))\n",
        "      input_dim=neurons_per_layer\n",
        "\n",
        "    layers.append(nn.Linear(neurons_per_layer,output_dim))\n",
        "\n",
        "\n",
        "    self.model=nn.Sequential(*layers)\n",
        "\n",
        "  def forward(self,x):\n",
        "    return self.model(x)\n"
      ],
      "metadata": {
        "id": "_vPKJnh50FUG"
      },
      "execution_count": 25,
      "outputs": []
    },
    {
      "cell_type": "code",
      "source": [
        "def objective(trail):\n",
        "  num_hidden_layer=trail.suggest_int('num_hidden_layer',1,10,step=1)\n",
        "  neurons_per_layer=trail.suggest_int('neurons_per_layer',16,256,step=8)\n",
        "  dropout=trail.suggest_float('dropout',0.1,0.5,step=0.1)\n",
        "  learning_rate=trail.suggest_float('learning_rate',1e-5,1e-1,log=True)\n",
        "  epochs=trail.suggest_int('epochs',10,100,step=10)\n",
        "  batch_size=trail.suggest_categorical('batch_size',[16, 32, 64, 128])\n",
        "  optimizer_name=trail.suggest_categorical('optimizer',['adam','sgd'])\n",
        "  input_dim=784\n",
        "  output_dim=10\n",
        "\n",
        "  net=model(neurons_per_layer,num_hidden_layer,dropout,input_dim,output_dim)\n",
        "  criterion=nn.CrossEntropyLoss()\n",
        "\n",
        "  if optimizer_name=='adam':\n",
        "    optimizer=torch.optim.Adam(net.parameters(),lr=learning_rate)\n",
        "  else:\n",
        "    optimizer=torch.optim.SGD(net.parameters(),lr=learning_rate)\n",
        "\n",
        "  train_loader=DataLoader(train_dataset,batch_size=batch_size,shuffle=True)\n",
        "  test_loader=DataLoader(test_dataset,batch_size=batch_size,shuffle=False)\n",
        "\n",
        "\n",
        "  for epoch in range(epochs):\n",
        "    for features,labels in train_loader:\n",
        "      outputs=net(features)\n",
        "      loss=criterion(outputs,labels)\n",
        "\n",
        "      optimizer.zero_grad()\n",
        "      loss.backward()\n",
        "      optimizer.step()\n",
        "\n",
        "\n",
        "  net.eval()\n",
        "\n",
        "  total=0\n",
        "  correct=0\n",
        "\n",
        "  with torch.no_grad():\n",
        "    for features,labels in test_loader:\n",
        "      outputs=net(features)\n",
        "      _,predicted=torch.max(outputs.data,1)\n",
        "      total+=labels.size(0)\n",
        "      correct+=(predicted==labels).sum().item()\n",
        "\n",
        "      accuracy=100*correct/total\n",
        "  return accuracy"
      ],
      "metadata": {
        "id": "wUgUW3R41gsq"
      },
      "execution_count": 26,
      "outputs": []
    },
    {
      "cell_type": "code",
      "source": [
        "!pip install optuna"
      ],
      "metadata": {
        "colab": {
          "base_uri": "https://localhost:8080/"
        },
        "id": "2ROOlcQ423oi",
        "outputId": "17bfa7bf-da8b-46b7-a1cb-4d818adc3e8a"
      },
      "execution_count": 27,
      "outputs": [
        {
          "output_type": "stream",
          "name": "stdout",
          "text": [
            "Requirement already satisfied: optuna in /usr/local/lib/python3.12/dist-packages (4.5.0)\n",
            "Requirement already satisfied: alembic>=1.5.0 in /usr/local/lib/python3.12/dist-packages (from optuna) (1.16.5)\n",
            "Requirement already satisfied: colorlog in /usr/local/lib/python3.12/dist-packages (from optuna) (6.9.0)\n",
            "Requirement already satisfied: numpy in /usr/local/lib/python3.12/dist-packages (from optuna) (2.0.2)\n",
            "Requirement already satisfied: packaging>=20.0 in /usr/local/lib/python3.12/dist-packages (from optuna) (25.0)\n",
            "Requirement already satisfied: sqlalchemy>=1.4.2 in /usr/local/lib/python3.12/dist-packages (from optuna) (2.0.43)\n",
            "Requirement already satisfied: tqdm in /usr/local/lib/python3.12/dist-packages (from optuna) (4.67.1)\n",
            "Requirement already satisfied: PyYAML in /usr/local/lib/python3.12/dist-packages (from optuna) (6.0.2)\n",
            "Requirement already satisfied: Mako in /usr/local/lib/python3.12/dist-packages (from alembic>=1.5.0->optuna) (1.3.10)\n",
            "Requirement already satisfied: typing-extensions>=4.12 in /usr/local/lib/python3.12/dist-packages (from alembic>=1.5.0->optuna) (4.15.0)\n",
            "Requirement already satisfied: greenlet>=1 in /usr/local/lib/python3.12/dist-packages (from sqlalchemy>=1.4.2->optuna) (3.2.4)\n",
            "Requirement already satisfied: MarkupSafe>=0.9.2 in /usr/local/lib/python3.12/dist-packages (from Mako->alembic>=1.5.0->optuna) (3.0.2)\n"
          ]
        }
      ]
    },
    {
      "cell_type": "code",
      "source": [
        "import optuna\n",
        "study=optuna.create_study(direction='maximize')\n",
        "study.optimize(objective,n_trials=10)"
      ],
      "metadata": {
        "colab": {
          "base_uri": "https://localhost:8080/"
        },
        "id": "lguv5jhq26cI",
        "outputId": "83caeb86-3c4a-4300-e003-892a8b83bc6c"
      },
      "execution_count": 28,
      "outputs": [
        {
          "output_type": "stream",
          "name": "stderr",
          "text": [
            "[I 2025-10-01 17:42:45,340] A new study created in memory with name: no-name-87d26e1c-3403-4bb2-b4fd-229ef6c295eb\n",
            "[I 2025-10-01 17:43:08,792] Trial 0 finished with value: 41.666666666666664 and parameters: {'num_hidden_layer': 8, 'neurons_per_layer': 80, 'dropout': 0.4, 'learning_rate': 0.0006402089808339748, 'epochs': 40, 'batch_size': 128, 'optimizer': 'adam'}. Best is trial 0 with value: 41.666666666666664.\n",
            "[I 2025-10-01 17:43:44,584] Trial 1 finished with value: 80.58333333333333 and parameters: {'num_hidden_layer': 5, 'neurons_per_layer': 64, 'dropout': 0.30000000000000004, 'learning_rate': 6.304973558200464e-05, 'epochs': 70, 'batch_size': 32, 'optimizer': 'adam'}. Best is trial 1 with value: 80.58333333333333.\n",
            "[I 2025-10-01 17:43:58,121] Trial 2 finished with value: 78.58333333333333 and parameters: {'num_hidden_layer': 1, 'neurons_per_layer': 16, 'dropout': 0.2, 'learning_rate': 0.0037038816460804305, 'epochs': 50, 'batch_size': 16, 'optimizer': 'sgd'}. Best is trial 1 with value: 80.58333333333333.\n",
            "[I 2025-10-01 17:44:19,602] Trial 3 finished with value: 56.25 and parameters: {'num_hidden_layer': 10, 'neurons_per_layer': 72, 'dropout': 0.4, 'learning_rate': 0.008615767902122498, 'epochs': 60, 'batch_size': 128, 'optimizer': 'adam'}. Best is trial 1 with value: 80.58333333333333.\n",
            "[I 2025-10-01 17:44:28,503] Trial 4 finished with value: 81.5 and parameters: {'num_hidden_layer': 3, 'neurons_per_layer': 136, 'dropout': 0.2, 'learning_rate': 0.0004591158991944405, 'epochs': 20, 'batch_size': 32, 'optimizer': 'adam'}. Best is trial 4 with value: 81.5.\n",
            "[I 2025-10-01 17:44:32,349] Trial 5 finished with value: 81.75 and parameters: {'num_hidden_layer': 2, 'neurons_per_layer': 240, 'dropout': 0.30000000000000004, 'learning_rate': 5.634739012280387e-05, 'epochs': 10, 'batch_size': 64, 'optimizer': 'adam'}. Best is trial 5 with value: 81.75.\n",
            "[I 2025-10-01 17:45:03,466] Trial 6 finished with value: 83.25 and parameters: {'num_hidden_layer': 10, 'neurons_per_layer': 160, 'dropout': 0.2, 'learning_rate': 0.04404091125540636, 'epochs': 50, 'batch_size': 128, 'optimizer': 'adam'}. Best is trial 6 with value: 83.25.\n",
            "[I 2025-10-01 17:45:59,720] Trial 7 finished with value: 80.0 and parameters: {'num_hidden_layer': 9, 'neurons_per_layer': 216, 'dropout': 0.4, 'learning_rate': 0.09514635208512, 'epochs': 90, 'batch_size': 128, 'optimizer': 'sgd'}. Best is trial 6 with value: 83.25.\n",
            "[I 2025-10-01 17:46:22,145] Trial 8 finished with value: 10.666666666666666 and parameters: {'num_hidden_layer': 8, 'neurons_per_layer': 40, 'dropout': 0.5, 'learning_rate': 0.0017851529584908042, 'epochs': 50, 'batch_size': 32, 'optimizer': 'sgd'}. Best is trial 6 with value: 83.25.\n",
            "[I 2025-10-01 17:46:38,644] Trial 9 finished with value: 83.83333333333333 and parameters: {'num_hidden_layer': 2, 'neurons_per_layer': 192, 'dropout': 0.1, 'learning_rate': 0.003012269240096696, 'epochs': 50, 'batch_size': 32, 'optimizer': 'sgd'}. Best is trial 9 with value: 83.83333333333333.\n"
          ]
        }
      ]
    },
    {
      "cell_type": "code",
      "source": [
        "study.best_value"
      ],
      "metadata": {
        "colab": {
          "base_uri": "https://localhost:8080/"
        },
        "id": "_SgG-tAT3Chg",
        "outputId": "b34bbf52-03c8-4c65-f541-90f2828029fc"
      },
      "execution_count": 29,
      "outputs": [
        {
          "output_type": "execute_result",
          "data": {
            "text/plain": [
              "83.83333333333333"
            ]
          },
          "metadata": {},
          "execution_count": 29
        }
      ]
    },
    {
      "cell_type": "code",
      "source": [
        "study.best_params"
      ],
      "metadata": {
        "colab": {
          "base_uri": "https://localhost:8080/"
        },
        "id": "vyEtfHl24Krt",
        "outputId": "7969f066-6fab-461c-9db3-a1f2bfa399f5"
      },
      "execution_count": 31,
      "outputs": [
        {
          "output_type": "execute_result",
          "data": {
            "text/plain": [
              "{'num_hidden_layer': 2,\n",
              " 'neurons_per_layer': 192,\n",
              " 'dropout': 0.1,\n",
              " 'learning_rate': 0.003012269240096696,\n",
              " 'epochs': 50,\n",
              " 'batch_size': 32,\n",
              " 'optimizer': 'sgd'}"
            ]
          },
          "metadata": {},
          "execution_count": 31
        }
      ]
    },
    {
      "cell_type": "code",
      "source": [],
      "metadata": {
        "id": "esDOul1I4kQA"
      },
      "execution_count": null,
      "outputs": []
    }
  ]
}